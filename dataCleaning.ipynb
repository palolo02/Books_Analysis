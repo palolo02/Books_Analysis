{
 "cells": [
  {
   "cell_type": "code",
   "execution_count": 1,
   "metadata": {},
   "outputs": [],
   "source": [
    "import pandas as pd"
   ]
  },
  {
   "cell_type": "code",
   "execution_count": 2,
   "metadata": {
    "tags": []
   },
   "outputs": [
    {
     "output_type": "stream",
     "name": "stderr",
     "text": "b'Skipping line 3350: expected 12 fields, saw 13\\nSkipping line 4704: expected 12 fields, saw 13\\nSkipping line 5879: expected 12 fields, saw 13\\nSkipping line 8981: expected 12 fields, saw 13\\n'\n"
    },
    {
     "output_type": "execute_result",
     "data": {
      "text/plain": "   bookID                                              title  \\\n0       1  Harry Potter and the Half-Blood Prince (Harry ...   \n1       2  Harry Potter and the Order of the Phoenix (Har...   \n2       4  Harry Potter and the Chamber of Secrets (Harry...   \n3       5  Harry Potter and the Prisoner of Azkaban (Harr...   \n4       8  Harry Potter Boxed Set  Books 1-5 (Harry Potte...   \n\n                      authors  average_rating        isbn         isbn13  \\\n0  J.K. Rowling/Mary GrandPré            4.57  0439785960  9780439785969   \n1  J.K. Rowling/Mary GrandPré            4.49  0439358078  9780439358071   \n2                J.K. Rowling            4.42  0439554896  9780439554893   \n3  J.K. Rowling/Mary GrandPré            4.56  043965548X  9780439655484   \n4  J.K. Rowling/Mary GrandPré            4.78  0439682584  9780439682589   \n\n  language_code    num_pages  ratings_count  text_reviews_count  \\\n0           eng          652        2095690               27591   \n1           eng          870        2153167               29221   \n2           eng          352           6333                 244   \n3           eng          435        2339585               36325   \n4           eng         2690          41428                 164   \n\n  publication_date        publisher  \n0        9/16/2006  Scholastic Inc.  \n1         9/1/2004  Scholastic Inc.  \n2        11/1/2003       Scholastic  \n3         5/1/2004  Scholastic Inc.  \n4        9/13/2004       Scholastic  ",
      "text/html": "<div>\n<style scoped>\n    .dataframe tbody tr th:only-of-type {\n        vertical-align: middle;\n    }\n\n    .dataframe tbody tr th {\n        vertical-align: top;\n    }\n\n    .dataframe thead th {\n        text-align: right;\n    }\n</style>\n<table border=\"1\" class=\"dataframe\">\n  <thead>\n    <tr style=\"text-align: right;\">\n      <th></th>\n      <th>bookID</th>\n      <th>title</th>\n      <th>authors</th>\n      <th>average_rating</th>\n      <th>isbn</th>\n      <th>isbn13</th>\n      <th>language_code</th>\n      <th>num_pages</th>\n      <th>ratings_count</th>\n      <th>text_reviews_count</th>\n      <th>publication_date</th>\n      <th>publisher</th>\n    </tr>\n  </thead>\n  <tbody>\n    <tr>\n      <td>0</td>\n      <td>1</td>\n      <td>Harry Potter and the Half-Blood Prince (Harry ...</td>\n      <td>J.K. Rowling/Mary GrandPré</td>\n      <td>4.57</td>\n      <td>0439785960</td>\n      <td>9780439785969</td>\n      <td>eng</td>\n      <td>652</td>\n      <td>2095690</td>\n      <td>27591</td>\n      <td>9/16/2006</td>\n      <td>Scholastic Inc.</td>\n    </tr>\n    <tr>\n      <td>1</td>\n      <td>2</td>\n      <td>Harry Potter and the Order of the Phoenix (Har...</td>\n      <td>J.K. Rowling/Mary GrandPré</td>\n      <td>4.49</td>\n      <td>0439358078</td>\n      <td>9780439358071</td>\n      <td>eng</td>\n      <td>870</td>\n      <td>2153167</td>\n      <td>29221</td>\n      <td>9/1/2004</td>\n      <td>Scholastic Inc.</td>\n    </tr>\n    <tr>\n      <td>2</td>\n      <td>4</td>\n      <td>Harry Potter and the Chamber of Secrets (Harry...</td>\n      <td>J.K. Rowling</td>\n      <td>4.42</td>\n      <td>0439554896</td>\n      <td>9780439554893</td>\n      <td>eng</td>\n      <td>352</td>\n      <td>6333</td>\n      <td>244</td>\n      <td>11/1/2003</td>\n      <td>Scholastic</td>\n    </tr>\n    <tr>\n      <td>3</td>\n      <td>5</td>\n      <td>Harry Potter and the Prisoner of Azkaban (Harr...</td>\n      <td>J.K. Rowling/Mary GrandPré</td>\n      <td>4.56</td>\n      <td>043965548X</td>\n      <td>9780439655484</td>\n      <td>eng</td>\n      <td>435</td>\n      <td>2339585</td>\n      <td>36325</td>\n      <td>5/1/2004</td>\n      <td>Scholastic Inc.</td>\n    </tr>\n    <tr>\n      <td>4</td>\n      <td>8</td>\n      <td>Harry Potter Boxed Set  Books 1-5 (Harry Potte...</td>\n      <td>J.K. Rowling/Mary GrandPré</td>\n      <td>4.78</td>\n      <td>0439682584</td>\n      <td>9780439682589</td>\n      <td>eng</td>\n      <td>2690</td>\n      <td>41428</td>\n      <td>164</td>\n      <td>9/13/2004</td>\n      <td>Scholastic</td>\n    </tr>\n  </tbody>\n</table>\n</div>"
     },
     "metadata": {},
     "execution_count": 2
    }
   ],
   "source": [
    "# Read the file removing bad lines\n",
    "file = \"static/data/books.csv\"\n",
    "df = pd.read_csv(file,error_bad_lines=False)\n",
    "df.head()"
   ]
  },
  {
   "cell_type": "code",
   "execution_count": 3,
   "metadata": {
    "tags": []
   },
   "outputs": [
    {
     "output_type": "stream",
     "name": "stdout",
     "text": "Index(['bookID', 'title', 'authors', 'average_rating', 'isbn', 'isbn13',\n       'language_code', '  num_pages', 'ratings_count', 'text_reviews_count',\n       'publication_date', 'publisher'],\n      dtype='object')\n"
    }
   ],
   "source": [
    "# Get only those columns wew want\n",
    "print(df.columns)\n",
    "df = df[[\"bookID\",\"title\",\"authors\",\"average_rating\",\"isbn\",\"isbn13\",\"  num_pages\",\"ratings_count\",\"text_reviews_count\",\"publication_date\"]]\n",
    "df.rename(columns={\"  num_pages\":\"num_pages\"}, inplace=True)\n",
    "\n"
   ]
  },
  {
   "cell_type": "code",
   "execution_count": 4,
   "metadata": {},
   "outputs": [],
   "source": [
    "# Review encoding****\n",
    "#df[\"authors\"] = df[\"authors\"].str.encode('iso-8859-1').str.decode('utf8')\n",
    "#df.head(200)"
   ]
  },
  {
   "cell_type": "code",
   "execution_count": 5,
   "metadata": {},
   "outputs": [],
   "source": [
    "# Sort df based on ratings_count and assing proper data type\n",
    "df[\"ratings_count\"] = df[\"ratings_count\"].astype('float')\n",
    "df[\"average_rating\"] = df[\"average_rating\"].astype('float')\n",
    "df[\"num_pages\"] = df[\"num_pages\"].astype('float')\n",
    "df[\"text_reviews_count\"] = df[\"text_reviews_count\"].astype('float')\n",
    "df.sort_values(by=[\"ratings_count\"], inplace=True)"
   ]
  },
  {
   "cell_type": "code",
   "execution_count": 6,
   "metadata": {},
   "outputs": [
    {
     "output_type": "execute_result",
     "data": {
      "text/plain": "             bookID  average_rating        isbn13     num_pages  \\\ncount  10348.000000    10348.000000  1.034800e+04  10348.000000   \nmean   21693.020680        3.932598  9.758319e+12    331.982026   \nstd    13052.612815        0.357278  4.592278e+11    239.024000   \nmin        2.000000        0.000000  8.987060e+09      0.000000   \n25%    10777.500000        3.770000  9.780345e+12    192.000000   \n50%    21277.500000        3.960000  9.780614e+12    293.000000   \n75%    32361.750000        4.140000  9.780880e+12    409.000000   \nmax    45641.000000        5.000000  9.790008e+12   6576.000000   \n\n       ratings_count  text_reviews_count  \ncount   1.034800e+04        10348.000000  \nmean    1.266958e+04          426.281794  \nstd     8.500493e+04         2153.872316  \nmin     0.000000e+00            0.000000  \n25%     9.400000e+01            8.000000  \n50%     6.670000e+02           42.000000  \n75%     4.440000e+03          208.250000  \nmax     4.597666e+06        94265.000000  ",
      "text/html": "<div>\n<style scoped>\n    .dataframe tbody tr th:only-of-type {\n        vertical-align: middle;\n    }\n\n    .dataframe tbody tr th {\n        vertical-align: top;\n    }\n\n    .dataframe thead th {\n        text-align: right;\n    }\n</style>\n<table border=\"1\" class=\"dataframe\">\n  <thead>\n    <tr style=\"text-align: right;\">\n      <th></th>\n      <th>bookID</th>\n      <th>average_rating</th>\n      <th>isbn13</th>\n      <th>num_pages</th>\n      <th>ratings_count</th>\n      <th>text_reviews_count</th>\n    </tr>\n  </thead>\n  <tbody>\n    <tr>\n      <td>count</td>\n      <td>10348.000000</td>\n      <td>10348.000000</td>\n      <td>1.034800e+04</td>\n      <td>10348.000000</td>\n      <td>1.034800e+04</td>\n      <td>10348.000000</td>\n    </tr>\n    <tr>\n      <td>mean</td>\n      <td>21693.020680</td>\n      <td>3.932598</td>\n      <td>9.758319e+12</td>\n      <td>331.982026</td>\n      <td>1.266958e+04</td>\n      <td>426.281794</td>\n    </tr>\n    <tr>\n      <td>std</td>\n      <td>13052.612815</td>\n      <td>0.357278</td>\n      <td>4.592278e+11</td>\n      <td>239.024000</td>\n      <td>8.500493e+04</td>\n      <td>2153.872316</td>\n    </tr>\n    <tr>\n      <td>min</td>\n      <td>2.000000</td>\n      <td>0.000000</td>\n      <td>8.987060e+09</td>\n      <td>0.000000</td>\n      <td>0.000000e+00</td>\n      <td>0.000000</td>\n    </tr>\n    <tr>\n      <td>25%</td>\n      <td>10777.500000</td>\n      <td>3.770000</td>\n      <td>9.780345e+12</td>\n      <td>192.000000</td>\n      <td>9.400000e+01</td>\n      <td>8.000000</td>\n    </tr>\n    <tr>\n      <td>50%</td>\n      <td>21277.500000</td>\n      <td>3.960000</td>\n      <td>9.780614e+12</td>\n      <td>293.000000</td>\n      <td>6.670000e+02</td>\n      <td>42.000000</td>\n    </tr>\n    <tr>\n      <td>75%</td>\n      <td>32361.750000</td>\n      <td>4.140000</td>\n      <td>9.780880e+12</td>\n      <td>409.000000</td>\n      <td>4.440000e+03</td>\n      <td>208.250000</td>\n    </tr>\n    <tr>\n      <td>max</td>\n      <td>45641.000000</td>\n      <td>5.000000</td>\n      <td>9.790008e+12</td>\n      <td>6576.000000</td>\n      <td>4.597666e+06</td>\n      <td>94265.000000</td>\n    </tr>\n  </tbody>\n</table>\n</div>"
     },
     "metadata": {},
     "execution_count": 6
    }
   ],
   "source": [
    "# keep one single book per title\n",
    "df = df.drop_duplicates(['title'], keep='first')\n",
    "df.describe()"
   ]
  },
  {
   "cell_type": "code",
   "execution_count": 7,
   "metadata": {},
   "outputs": [
    {
     "output_type": "execute_result",
     "data": {
      "text/plain": "       bookID                                              title  \\\n9847    39580  The American Campaign: U.S. Presidential Campa...   \n7634    29404       Your Child and Jesus: A Family Activity Book   \n10917   44705  The Leadership Challenge: Skills for Taking Ch...   \n3492    12712  Brodie's notes on Aldous Huxley's brave new world   \n10442   42489  After Collapse: The Regeneration of Complex So...   \n\n                         authors  average_rating        isbn         isbn13  \\\n9847           James E. Campbell             5.0  089096940X  9780890969403   \n7634   Rick Osborne/Kevin Miller             0.0  080242855X  9780802428554   \n10917           Warren G. Bennis             0.0  088684049X  9780886840495   \n3492              Graham Handley             0.0  0333581296  9780333581292   \n10442          Glenn M. Schwartz             4.0  0816525099  9780816525096   \n\n       num_pages  ratings_count  text_reviews_count publication_date category  \n9847       314.0            0.0                 0.0         5/1/2000           \n7634       112.0            0.0                 0.0        9/13/1999           \n10917       60.0            0.0                 0.0        12/1/1985           \n3492        71.0            0.0                 0.0        8/20/1992           \n10442      336.0            0.0                 0.0        5/25/2006           ",
      "text/html": "<div>\n<style scoped>\n    .dataframe tbody tr th:only-of-type {\n        vertical-align: middle;\n    }\n\n    .dataframe tbody tr th {\n        vertical-align: top;\n    }\n\n    .dataframe thead th {\n        text-align: right;\n    }\n</style>\n<table border=\"1\" class=\"dataframe\">\n  <thead>\n    <tr style=\"text-align: right;\">\n      <th></th>\n      <th>bookID</th>\n      <th>title</th>\n      <th>authors</th>\n      <th>average_rating</th>\n      <th>isbn</th>\n      <th>isbn13</th>\n      <th>num_pages</th>\n      <th>ratings_count</th>\n      <th>text_reviews_count</th>\n      <th>publication_date</th>\n      <th>category</th>\n    </tr>\n  </thead>\n  <tbody>\n    <tr>\n      <td>9847</td>\n      <td>39580</td>\n      <td>The American Campaign: U.S. Presidential Campa...</td>\n      <td>James E. Campbell</td>\n      <td>5.0</td>\n      <td>089096940X</td>\n      <td>9780890969403</td>\n      <td>314.0</td>\n      <td>0.0</td>\n      <td>0.0</td>\n      <td>5/1/2000</td>\n      <td></td>\n    </tr>\n    <tr>\n      <td>7634</td>\n      <td>29404</td>\n      <td>Your Child and Jesus: A Family Activity Book</td>\n      <td>Rick Osborne/Kevin Miller</td>\n      <td>0.0</td>\n      <td>080242855X</td>\n      <td>9780802428554</td>\n      <td>112.0</td>\n      <td>0.0</td>\n      <td>0.0</td>\n      <td>9/13/1999</td>\n      <td></td>\n    </tr>\n    <tr>\n      <td>10917</td>\n      <td>44705</td>\n      <td>The Leadership Challenge: Skills for Taking Ch...</td>\n      <td>Warren G. Bennis</td>\n      <td>0.0</td>\n      <td>088684049X</td>\n      <td>9780886840495</td>\n      <td>60.0</td>\n      <td>0.0</td>\n      <td>0.0</td>\n      <td>12/1/1985</td>\n      <td></td>\n    </tr>\n    <tr>\n      <td>3492</td>\n      <td>12712</td>\n      <td>Brodie's notes on Aldous Huxley's brave new world</td>\n      <td>Graham Handley</td>\n      <td>0.0</td>\n      <td>0333581296</td>\n      <td>9780333581292</td>\n      <td>71.0</td>\n      <td>0.0</td>\n      <td>0.0</td>\n      <td>8/20/1992</td>\n      <td></td>\n    </tr>\n    <tr>\n      <td>10442</td>\n      <td>42489</td>\n      <td>After Collapse: The Regeneration of Complex So...</td>\n      <td>Glenn M. Schwartz</td>\n      <td>4.0</td>\n      <td>0816525099</td>\n      <td>9780816525096</td>\n      <td>336.0</td>\n      <td>0.0</td>\n      <td>0.0</td>\n      <td>5/25/2006</td>\n      <td></td>\n    </tr>\n  </tbody>\n</table>\n</div>"
     },
     "metadata": {},
     "execution_count": 7
    }
   ],
   "source": [
    "# Add category field for future references in Google API\n",
    "df[\"category\"] = \"\"\n",
    "df.head()"
   ]
  },
  {
   "cell_type": "code",
   "execution_count": 8,
   "metadata": {},
   "outputs": [],
   "source": [
    "# Export to csv in data folder\n",
    "# Modify to store ir directly in mongo *******\n",
    "df.to_csv('static/data/books_cleaned.csv',header=True)"
   ]
  }
 ],
 "metadata": {
  "language_info": {
   "codemirror_mode": {
    "name": "ipython",
    "version": 3
   },
   "file_extension": ".py",
   "mimetype": "text/x-python",
   "name": "python",
   "nbconvert_exporter": "python",
   "pygments_lexer": "ipython3",
   "version": "3.7.4-final"
  },
  "orig_nbformat": 2,
  "kernelspec": {
   "name": "python3",
   "display_name": "Python 3"
  }
 },
 "nbformat": 4,
 "nbformat_minor": 2
}