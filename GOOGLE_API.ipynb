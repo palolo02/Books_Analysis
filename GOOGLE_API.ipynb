{
 "cells": [
  {
   "cell_type": "code",
   "execution_count": 1,
   "metadata": {},
   "outputs": [],
   "source": [
    "import pandas as pd\n",
    "from pymongo import MongoClient\n",
    "url = f'mongodb://localhost:27017/books_db'\n",
    "\n",
    "conn = MongoClient(url)\n",
    "\n",
    "db = conn[\"books_db\"]\n"
   ]
  },
  {
   "cell_type": "code",
   "execution_count": 2,
   "metadata": {},
   "outputs": [],
   "source": [
    "books = db.book_collection.find().sort(\"ratings_count\",-1).limit(100)"
   ]
  },
  {
   "cell_type": "code",
   "execution_count": 3,
   "metadata": {},
   "outputs": [],
   "source": [
    "books_l=list(books)"
   ]
  },
  {
   "cell_type": "code",
   "execution_count": 6,
   "metadata": {},
   "outputs": [
    {
     "data": {
      "text/plain": [
       "'Twilight (Twilight  #1)'"
      ]
     },
     "execution_count": 6,
     "metadata": {},
     "output_type": "execute_result"
    }
   ],
   "source": [
    "books_l[0]['title']"
   ]
  },
  {
   "cell_type": "code",
   "execution_count": null,
   "metadata": {},
   "outputs": [],
   "source": [
    "df = pd.DataFrame(data=list(books))"
   ]
  },
  {
   "cell_type": "code",
   "execution_count": null,
   "metadata": {},
   "outputs": [],
   "source": [
    "df.head(20)"
   ]
  },
  {
   "cell_type": "markdown",
   "metadata": {},
   "source": [
    "data.head()"
   ]
  },
  {
   "cell_type": "code",
   "execution_count": null,
   "metadata": {},
   "outputs": [],
   "source": [
    "df1= df.sort_values(by=\"average_rating\",ascending=False)"
   ]
  },
  {
   "cell_type": "code",
   "execution_count": null,
   "metadata": {},
   "outputs": [],
   "source": [
    "df1.reset_index(inplace = True)"
   ]
  },
  {
   "cell_type": "code",
   "execution_count": null,
   "metadata": {},
   "outputs": [],
   "source": [
    "df1.drop(['index'], axis=1,inplace=True)"
   ]
  },
  {
   "cell_type": "code",
   "execution_count": null,
   "metadata": {},
   "outputs": [],
   "source": [
    "df1.head()"
   ]
  },
  {
   "cell_type": "code",
   "execution_count": null,
   "metadata": {},
   "outputs": [],
   "source": [
    "import requests\n",
    "import json"
   ]
  },
  {
   "cell_type": "code",
   "execution_count": null,
   "metadata": {},
   "outputs": [],
   "source": [
    "categories =[]\n",
    "for i in range(len(df1.title)):\n",
    "    title = df1.title[i]\n",
    "    isbn = df1.isbn[i]\n",
    "    url_search = f'https://www.googleapis.com/books/v1/volumes?q={title}+isbn:{isbn}'\n",
    "     \n",
    "\n",
    "    res = requests.get(url_search)\n",
    "    json_obj = res.json()\n",
    "    total_items = json_obj['totalItems']\n",
    "\n",
    "    \n",
    "    if (total_items==0):\n",
    "        print(\"====== IGUAL A CERO=====\")\n",
    "        \n",
    "        isbn13 =list(df1.isbn13)[i]\n",
    "        url_search2 = f'https://www.googleapis.com/books/v1/volumes?q={title}+isbn_13:{isbn13}'\n",
    "        res2 = requests.get(url_search2)\n",
    "        json_obj2 = res2.json()\n",
    "        total_items2 = json_obj2['totalItems']\n",
    "        \n",
    "        try:\n",
    "        \n",
    "            if (total_items2 == 0):\n",
    "                print(\"====NO VALUES FOUND====\")\n",
    "                print(f\"Title: {title}\")\n",
    "                url_search3 =f'https://www.googleapis.com/books/v1/volumes?q={title}'\n",
    "                res3 = requests.get(url_search3)\n",
    "                json_obj3 = res3.json()\n",
    "                total_items3 = json_obj3['totalItems']\n",
    "                thumbnail=json_obj3['items'][0][\"volumeInfo\"][\"imageLinks\"][\"thumbnail\"]\n",
    "                category =json_obj3['items'][0][\"volumeInfo\"][\"categories\"][0]\n",
    "\n",
    "                print(category)\n",
    "            else:\n",
    "                category =json_obj2['items'][0][\"volumeInfo\"][\"categories\"][0]\n",
    "                thumbnail=json_obj2['items'][0][\"volumeInfo\"][\"imageLinks\"][\"thumbnail\"]\n",
    "                print(\"======IGUAL A CERO =====\")\n",
    "                print(f\"Title: {title}\")\n",
    "                print(url_search2)\n",
    "                print(f'New search: {total_items2}')\n",
    "                print(\"Category:\" + category)\n",
    "                print(thumbnail)\n",
    "        except KeyError:\n",
    "                print(\"=================Exception===============\")\n",
    "                try:\n",
    "                    url_search3 =f'https://www.googleapis.com/books/v1/volumes?q={title}'\n",
    "                    res3 = requests.get(url_search3)\n",
    "                    json_obj3 = res3.json()\n",
    "                    total_items3 = json_obj3['totalItems']\n",
    "                    category =json_obj3['items'][0][\"volumeInfo\"][\"categories\"][0] \n",
    "                    thumbnail=json_obj3['items'][0][\"volumeInfo\"][\"imageLinks\"][\"thumbnail\"]\n",
    "                    print(f\"Title: {title}\")\n",
    "                    print(url_search3)\n",
    "                    print(f'New search: {total_items3}')\n",
    "                    print(\"Category:\" + category)\n",
    "                    print(thumbnail)\n",
    "                except KeyError:\n",
    "                    category=\"UNKNOWN\"    \n",
    "                    thumbnail=json_obj3['items'][0][\"volumeInfo\"][\"imageLinks\"][\"thumbnail\"]\n",
    "\n",
    "                    print(f\"Title: {title}\")\n",
    "                    print(url_search3)\n",
    "                    print(f'New search: {total_items3}')\n",
    "                    print(category)\n",
    "                    print(thumbnail)\n",
    "            \n",
    "\n",
    "        \n",
    "\n",
    "    elif (total_items==1):\n",
    "        print(\"======IGUAL A UNO =====\")\n",
    "        res = requests.get(url_search)\n",
    "        json_obj = res.json()\n",
    "        total_items = json_obj['totalItems']\n",
    "        items =json_obj['items']\n",
    "        \n",
    "        if (items ==0):\n",
    "            pass\n",
    "        else:\n",
    "            \n",
    "\n",
    "            try:\n",
    "                category =json_obj['items'][0][\"volumeInfo\"][\"categories\"][0]\n",
    "                thumbnail=json_obj['items'][0][\"volumeInfo\"][\"imageLinks\"][\"thumbnail\"]\n",
    "\n",
    "                print(f\"Title: {title}\")\n",
    "                print(f'Category: {category}')\n",
    "                print(url_search)\n",
    "                print(thumbnail)\n",
    "                print(total_items)\n",
    "            except KeyError:\n",
    "                thumbnail =\"NONE\"\n",
    "                category=\"UNKNOWN\"\n",
    "                print(f\"Title: {title}\")\n",
    "                print(f'Category: {category}')\n",
    "                print(url_search)\n",
    "                print(thumbnail)\n",
    "                print(total_items)\n",
    "\n",
    "    \n",
    "    elif(total_items >0):\n",
    "        print(\"======MAYOR A CERO =====\")\n",
    "        try:\n",
    "            isbn13 =df1.isbn13[i]\n",
    "            url_search2 = f'https://www.googleapis.com/books/v1/volumes?q={title}+isbn_13:{isbn13}'\n",
    "            res2 = requests.get(url_search2)\n",
    "            json_obj2 = res2.json()\n",
    "            total_items2 = json_obj2['totalItems']\n",
    "            thumbnail=json_obj2['items'][0][\"volumeInfo\"][\"imageLinks\"][\"thumbnail\"]\n",
    "            category =json_obj2['items'][1][\"volumeInfo\"][\"categories\"][0]\n",
    "\n",
    "            print(f\"Title: {title}\")\n",
    "            print(f'Category: {category}')\n",
    "            print(url_search2)\n",
    "            print(\"Thumbnail: \"+thumbnail)\n",
    "            print(total_items)\n",
    "        except KeyError:\n",
    "            try:\n",
    "                print(\"======= E X C E P T I O N 2 =====\")  \n",
    "                category =json_obj2['items'][0][\"volumeInfo\"][\"categories\"][0]\n",
    "                thumbnail=json_obj2['items'][0][\"volumeInfo\"][\"imageLinks\"][\"thumbnail\"]\n",
    "                print(f'Category: {category}')\n",
    "                print(title)\n",
    "                print(\"Thumbnail: \"+thumbnail)\n",
    "                print(url_search2)\n",
    "                \n",
    "            except KeyError:\n",
    "                category=\"UNKNOWN\"\n",
    "                print(\"======= KEY ERROR =====\")\n",
    "                thumbnail=\"NONE\"\n",
    "                print(title)\n",
    "                print(url_search2)\n",
    "                print(\"Thumbnail: \"+thumbnail)\n",
    "        \n",
    "        \n",
    "\n"
   ]
  },
  {
   "cell_type": "code",
   "execution_count": null,
   "metadata": {},
   "outputs": [],
   "source": []
  }
 ],
 "metadata": {
  "kernelspec": {
   "display_name": "Python 3",
   "language": "python",
   "name": "python3"
  },
  "language_info": {
   "codemirror_mode": {
    "name": "ipython",
    "version": 3
   },
   "file_extension": ".py",
   "mimetype": "text/x-python",
   "name": "python",
   "nbconvert_exporter": "python",
   "pygments_lexer": "ipython3",
   "version": "3.7.4"
  }
 },
 "nbformat": 4,
 "nbformat_minor": 2
}
